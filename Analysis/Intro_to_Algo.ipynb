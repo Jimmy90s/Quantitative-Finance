{
 "cells": [
  {
   "cell_type": "markdown",
   "metadata": {},
   "source": [
    "## Data Pulling and Cleaning with Pandas and yfinance"
   ]
  },
  {
   "cell_type": "code",
   "execution_count": null,
   "metadata": {},
   "outputs": [],
   "source": [
    "import pandas as pd\n",
    "import yfinance as yf"
   ]
  },
  {
   "cell_type": "code",
   "execution_count": null,
   "metadata": {},
   "outputs": [],
   "source": [
    "data = yf.download(tickers='BTC-USD', period='max', interval='1d')"
   ]
  },
  {
   "cell_type": "code",
   "execution_count": null,
   "metadata": {},
   "outputs": [],
   "source": [
    "data"
   ]
  },
  {
   "cell_type": "code",
   "execution_count": null,
   "metadata": {},
   "outputs": [],
   "source": [
    "data.shape"
   ]
  },
  {
   "cell_type": "markdown",
   "metadata": {},
   "source": [
    "## Clean by Removing 0 Volume and Invalid Bars"
   ]
  },
  {
   "cell_type": "code",
   "execution_count": null,
   "metadata": {},
   "outputs": [],
   "source": [
    "# Check for rows to drop\n",
    "zeroIndex = data[data[\"Volume\"] == 0].index\n",
    "\n",
    "data.drop(zeroIndex, inplace=True)\n",
    "df.isna().sum()"
   ]
  },
  {
   "cell_type": "code",
   "execution_count": null,
   "metadata": {},
   "outputs": [],
   "source": [
    "# common invalid rows\n",
    "data[data[\"High\"] == data['Low']]\n",
    "data_filtered = data[data[\"High\"] != data['Low']].copy()"
   ]
  },
  {
   "cell_type": "code",
   "execution_count": null,
   "metadata": {},
   "outputs": [],
   "source": [
    "data_filtered.reset_index(drop=False)\n",
    "df = data_filtered"
   ]
  },
  {
   "cell_type": "markdown",
   "metadata": {},
   "source": [
    "## Chart"
   ]
  },
  {
   "cell_type": "code",
   "execution_count": null,
   "metadata": {},
   "outputs": [],
   "source": [
    "import plotly.graph_objects as go\n",
    "fig = go.Figure(data=[go.Candlestick(x = df.index,\n",
    "                                    open = df['Open'],\n",
    "                                    high = df['High'],\n",
    "                                    low = df['Low'],\n",
    "                                    close = df['Close'])])\n",
    "\n",
    "fig.update_layout(paper_bgcolor=\"cornflowerblue\", plot_bgcolor=\"lavender\",\n",
    "                 margin_l=0, margin_b=0, margin_r=0, margin_t=0)\n",
    "\n",
    "fig.show()"
   ]
  },
  {
   "cell_type": "code",
   "execution_count": null,
   "metadata": {},
   "outputs": [],
   "source": [
    "import matplotlib.pyplot as plt\n",
    "plt.plot(df.index, df.Close)\n",
    "plt.show()"
   ]
  },
  {
   "cell_type": "markdown",
   "metadata": {},
   "source": [
    "## Technical Indicators"
   ]
  },
  {
   "cell_type": "code",
   "execution_count": 47,
   "metadata": {},
   "outputs": [],
   "source": [
    "import numpy as np\n",
    "import pandas_ta as ta\n",
    "#df.ta.indicators()\n",
    "#help(ta.atr)\n",
    "df['ATR'] = df.ta.atr(length=20)\n",
    "df['RSI'] = df.ta.rsi()\n",
    "df['Mid'] = df.ta.midprice(length=1)\n",
    "df['MA40'] = df.ta.sma(length=40)\n",
    "df['MA80'] = df.ta.sma(length=80)\n",
    "df['MA160'] = df.ta.sma(length=160)\n",
    "\n",
    "from scipy.stats import linregress\n",
    "def get_slope(array):\n",
    "    y = np.array(array)\n",
    "    x = np.arange(len(y))\n",
    "    slope, intercept, r_val, p_val, std_err = linregress(x,y)\n",
    "    return slope\n",
    "\n",
    "backrollingN = 6\n",
    "df['slopeMA40'] = df['MA40'].rolling(window=backrollingN).apply(get_slope)\n",
    "df['slopeMA80'] = df['MA80'].rolling(window=backrollingN).apply(get_slope)\n",
    "df['slopeMA160'] = df['MA160'].rolling(window=backrollingN).apply(get_slope)\n",
    "df['MidSlope'] = df['Mid'].rolling(window=backrollingN).apply(get_slope)\n",
    "df['RSISlope'] = df['RSI'].rolling(window=backrollingN).apply(get_slope)"
   ]
  },
  {
   "cell_type": "code",
   "execution_count": 48,
   "metadata": {},
   "outputs": [
    {
     "data": {
      "text/html": [
       "<div>\n",
       "<style scoped>\n",
       "    .dataframe tbody tr th:only-of-type {\n",
       "        vertical-align: middle;\n",
       "    }\n",
       "\n",
       "    .dataframe tbody tr th {\n",
       "        vertical-align: top;\n",
       "    }\n",
       "\n",
       "    .dataframe thead th {\n",
       "        text-align: right;\n",
       "    }\n",
       "</style>\n",
       "<table border=\"1\" class=\"dataframe\">\n",
       "  <thead>\n",
       "    <tr style=\"text-align: right;\">\n",
       "      <th></th>\n",
       "      <th>Open</th>\n",
       "      <th>High</th>\n",
       "      <th>Low</th>\n",
       "      <th>Close</th>\n",
       "      <th>Adj Close</th>\n",
       "      <th>Volume</th>\n",
       "      <th>ATR</th>\n",
       "      <th>RSI</th>\n",
       "      <th>Mid</th>\n",
       "      <th>MA40</th>\n",
       "      <th>MA80</th>\n",
       "      <th>MA160</th>\n",
       "      <th>slopeMA40</th>\n",
       "      <th>slopeMA80</th>\n",
       "      <th>slopeMA160</th>\n",
       "      <th>MidSlope</th>\n",
       "      <th>RSISlope</th>\n",
       "    </tr>\n",
       "    <tr>\n",
       "      <th>Date</th>\n",
       "      <th></th>\n",
       "      <th></th>\n",
       "      <th></th>\n",
       "      <th></th>\n",
       "      <th></th>\n",
       "      <th></th>\n",
       "      <th></th>\n",
       "      <th></th>\n",
       "      <th></th>\n",
       "      <th></th>\n",
       "      <th></th>\n",
       "      <th></th>\n",
       "      <th></th>\n",
       "      <th></th>\n",
       "      <th></th>\n",
       "      <th></th>\n",
       "      <th></th>\n",
       "    </tr>\n",
       "  </thead>\n",
       "  <tbody>\n",
       "    <tr>\n",
       "      <th>2024-02-05</th>\n",
       "      <td>42577.621094</td>\n",
       "      <td>43494.250000</td>\n",
       "      <td>42264.816406</td>\n",
       "      <td>42658.667969</td>\n",
       "      <td>42658.667969</td>\n",
       "      <td>18715487317</td>\n",
       "      <td>1410.297240</td>\n",
       "      <td>51.379813</td>\n",
       "      <td>42879.533203</td>\n",
       "      <td>42853.836621</td>\n",
       "      <td>41869.943555</td>\n",
       "      <td>35791.802136</td>\n",
       "      <td>-7.831733</td>\n",
       "      <td>79.213669</td>\n",
       "      <td>103.778311</td>\n",
       "      <td>0.112165</td>\n",
       "      <td>-0.363566</td>\n",
       "    </tr>\n",
       "    <tr>\n",
       "      <th>2024-02-06</th>\n",
       "      <td>42657.390625</td>\n",
       "      <td>43344.148438</td>\n",
       "      <td>42529.019531</td>\n",
       "      <td>43084.671875</td>\n",
       "      <td>43084.671875</td>\n",
       "      <td>16798476726</td>\n",
       "      <td>1380.538824</td>\n",
       "      <td>54.048625</td>\n",
       "      <td>42936.583984</td>\n",
       "      <td>42865.257031</td>\n",
       "      <td>41951.180664</td>\n",
       "      <td>35890.473425</td>\n",
       "      <td>-5.385153</td>\n",
       "      <td>77.851596</td>\n",
       "      <td>101.391349</td>\n",
       "      <td>31.892801</td>\n",
       "      <td>-0.380713</td>\n",
       "    </tr>\n",
       "    <tr>\n",
       "      <th>2024-02-07</th>\n",
       "      <td>43090.019531</td>\n",
       "      <td>44341.949219</td>\n",
       "      <td>42775.957031</td>\n",
       "      <td>44318.222656</td>\n",
       "      <td>44318.222656</td>\n",
       "      <td>21126587775</td>\n",
       "      <td>1389.811492</td>\n",
       "      <td>60.764581</td>\n",
       "      <td>43558.953125</td>\n",
       "      <td>42920.727539</td>\n",
       "      <td>42037.826611</td>\n",
       "      <td>36005.390613</td>\n",
       "      <td>3.637093</td>\n",
       "      <td>77.927439</td>\n",
       "      <td>101.597628</td>\n",
       "      <td>67.275056</td>\n",
       "      <td>0.920877</td>\n",
       "    </tr>\n",
       "    <tr>\n",
       "      <th>2024-02-08</th>\n",
       "      <td>44332.125000</td>\n",
       "      <td>45575.839844</td>\n",
       "      <td>44332.125000</td>\n",
       "      <td>45301.566406</td>\n",
       "      <td>45301.566406</td>\n",
       "      <td>26154524080</td>\n",
       "      <td>1383.201777</td>\n",
       "      <td>65.138659</td>\n",
       "      <td>44953.982422</td>\n",
       "      <td>42999.344141</td>\n",
       "      <td>42135.634229</td>\n",
       "      <td>36127.270874</td>\n",
       "      <td>22.591164</td>\n",
       "      <td>83.466825</td>\n",
       "      <td>105.093255</td>\n",
       "      <td>333.378069</td>\n",
       "      <td>2.582113</td>\n",
       "    </tr>\n",
       "    <tr>\n",
       "      <th>2024-02-10</th>\n",
       "      <td>47153.527344</td>\n",
       "      <td>47495.109375</td>\n",
       "      <td>47080.707031</td>\n",
       "      <td>47415.148438</td>\n",
       "      <td>47415.148438</td>\n",
       "      <td>36158255104</td>\n",
       "      <td>1423.718836</td>\n",
       "      <td>72.289419</td>\n",
       "      <td>47287.908203</td>\n",
       "      <td>43128.093164</td>\n",
       "      <td>42280.650928</td>\n",
       "      <td>36261.935559</td>\n",
       "      <td>50.435781</td>\n",
       "      <td>94.746539</td>\n",
       "      <td>112.531225</td>\n",
       "      <td>845.830469</td>\n",
       "      <td>4.424958</td>\n",
       "    </tr>\n",
       "  </tbody>\n",
       "</table>\n",
       "</div>"
      ],
      "text/plain": [
       "                    Open          High           Low         Close  \\\n",
       "Date                                                                 \n",
       "2024-02-05  42577.621094  43494.250000  42264.816406  42658.667969   \n",
       "2024-02-06  42657.390625  43344.148438  42529.019531  43084.671875   \n",
       "2024-02-07  43090.019531  44341.949219  42775.957031  44318.222656   \n",
       "2024-02-08  44332.125000  45575.839844  44332.125000  45301.566406   \n",
       "2024-02-10  47153.527344  47495.109375  47080.707031  47415.148438   \n",
       "\n",
       "               Adj Close       Volume          ATR        RSI           Mid  \\\n",
       "Date                                                                          \n",
       "2024-02-05  42658.667969  18715487317  1410.297240  51.379813  42879.533203   \n",
       "2024-02-06  43084.671875  16798476726  1380.538824  54.048625  42936.583984   \n",
       "2024-02-07  44318.222656  21126587775  1389.811492  60.764581  43558.953125   \n",
       "2024-02-08  45301.566406  26154524080  1383.201777  65.138659  44953.982422   \n",
       "2024-02-10  47415.148438  36158255104  1423.718836  72.289419  47287.908203   \n",
       "\n",
       "                    MA40          MA80         MA160  slopeMA40  slopeMA80  \\\n",
       "Date                                                                         \n",
       "2024-02-05  42853.836621  41869.943555  35791.802136  -7.831733  79.213669   \n",
       "2024-02-06  42865.257031  41951.180664  35890.473425  -5.385153  77.851596   \n",
       "2024-02-07  42920.727539  42037.826611  36005.390613   3.637093  77.927439   \n",
       "2024-02-08  42999.344141  42135.634229  36127.270874  22.591164  83.466825   \n",
       "2024-02-10  43128.093164  42280.650928  36261.935559  50.435781  94.746539   \n",
       "\n",
       "            slopeMA160    MidSlope  RSISlope  \n",
       "Date                                          \n",
       "2024-02-05  103.778311    0.112165 -0.363566  \n",
       "2024-02-06  101.391349   31.892801 -0.380713  \n",
       "2024-02-07  101.597628   67.275056  0.920877  \n",
       "2024-02-08  105.093255  333.378069  2.582113  \n",
       "2024-02-10  112.531225  845.830469  4.424958  "
      ]
     },
     "execution_count": 48,
     "metadata": {},
     "output_type": "execute_result"
    }
   ],
   "source": [
    "df.tail()"
   ]
  },
  {
   "cell_type": "markdown",
   "metadata": {},
   "source": [
    "## Target Catgories"
   ]
  },
  {
   "cell_type": "code",
   "execution_count": null,
   "metadata": {},
   "outputs": [],
   "source": []
  }
 ],
 "metadata": {
  "kernelspec": {
   "display_name": "Python 3",
   "language": "python",
   "name": "python3"
  },
  "language_info": {
   "codemirror_mode": {
    "name": "ipython",
    "version": 3
   },
   "file_extension": ".py",
   "mimetype": "text/x-python",
   "name": "python",
   "nbconvert_exporter": "python",
   "pygments_lexer": "ipython3",
   "version": "3.7.4"
  }
 },
 "nbformat": 4,
 "nbformat_minor": 2
}
